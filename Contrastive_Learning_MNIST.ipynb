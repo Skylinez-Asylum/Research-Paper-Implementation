{
  "cells": [
    {
      "cell_type": "code",
      "execution_count": 1,
      "metadata": {
        "collapsed": true,
        "id": "U0EFgbIweO9m"
      },
      "outputs": [
        {
          "name": "stdout",
          "output_type": "stream",
          "text": [
            "Downloading http://yann.lecun.com/exdb/mnist/train-images-idx3-ubyte.gz\n",
            "Failed to download (trying next):\n",
            "HTTP Error 403: Forbidden\n",
            "\n",
            "Downloading https://ossci-datasets.s3.amazonaws.com/mnist/train-images-idx3-ubyte.gz\n",
            "Downloading https://ossci-datasets.s3.amazonaws.com/mnist/train-images-idx3-ubyte.gz to ./data\\MNIST\\raw\\train-images-idx3-ubyte.gz\n"
          ]
        },
        {
          "name": "stderr",
          "output_type": "stream",
          "text": [
            "100%|██████████| 9912422/9912422 [00:05<00:00, 1812087.19it/s]\n"
          ]
        },
        {
          "name": "stdout",
          "output_type": "stream",
          "text": [
            "Extracting ./data\\MNIST\\raw\\train-images-idx3-ubyte.gz to ./data\\MNIST\\raw\n",
            "\n",
            "Downloading http://yann.lecun.com/exdb/mnist/train-labels-idx1-ubyte.gz\n",
            "Failed to download (trying next):\n",
            "HTTP Error 403: Forbidden\n",
            "\n",
            "Downloading https://ossci-datasets.s3.amazonaws.com/mnist/train-labels-idx1-ubyte.gz\n",
            "Downloading https://ossci-datasets.s3.amazonaws.com/mnist/train-labels-idx1-ubyte.gz to ./data\\MNIST\\raw\\train-labels-idx1-ubyte.gz\n"
          ]
        },
        {
          "name": "stderr",
          "output_type": "stream",
          "text": [
            "100%|██████████| 28881/28881 [00:00<00:00, 122611.07it/s]\n"
          ]
        },
        {
          "name": "stdout",
          "output_type": "stream",
          "text": [
            "Extracting ./data\\MNIST\\raw\\train-labels-idx1-ubyte.gz to ./data\\MNIST\\raw\n",
            "\n",
            "Downloading http://yann.lecun.com/exdb/mnist/t10k-images-idx3-ubyte.gz\n",
            "Failed to download (trying next):\n",
            "HTTP Error 403: Forbidden\n",
            "\n",
            "Downloading https://ossci-datasets.s3.amazonaws.com/mnist/t10k-images-idx3-ubyte.gz\n",
            "Downloading https://ossci-datasets.s3.amazonaws.com/mnist/t10k-images-idx3-ubyte.gz to ./data\\MNIST\\raw\\t10k-images-idx3-ubyte.gz\n"
          ]
        },
        {
          "name": "stderr",
          "output_type": "stream",
          "text": [
            "100%|██████████| 1648877/1648877 [00:01<00:00, 1136857.61it/s]\n"
          ]
        },
        {
          "name": "stdout",
          "output_type": "stream",
          "text": [
            "Extracting ./data\\MNIST\\raw\\t10k-images-idx3-ubyte.gz to ./data\\MNIST\\raw\n",
            "\n",
            "Downloading http://yann.lecun.com/exdb/mnist/t10k-labels-idx1-ubyte.gz\n",
            "Failed to download (trying next):\n",
            "HTTP Error 403: Forbidden\n",
            "\n",
            "Downloading https://ossci-datasets.s3.amazonaws.com/mnist/t10k-labels-idx1-ubyte.gz\n",
            "Downloading https://ossci-datasets.s3.amazonaws.com/mnist/t10k-labels-idx1-ubyte.gz to ./data\\MNIST\\raw\\t10k-labels-idx1-ubyte.gz\n"
          ]
        },
        {
          "name": "stderr",
          "output_type": "stream",
          "text": [
            "100%|██████████| 4542/4542 [00:00<00:00, 2271977.19it/s]"
          ]
        },
        {
          "name": "stdout",
          "output_type": "stream",
          "text": [
            "Extracting ./data\\MNIST\\raw\\t10k-labels-idx1-ubyte.gz to ./data\\MNIST\\raw\n",
            "\n"
          ]
        },
        {
          "name": "stderr",
          "output_type": "stream",
          "text": [
            "\n"
          ]
        }
      ],
      "source": [
        "import torch\n",
        "import torchvision\n",
        "train = torchvision.datasets.MNIST(root='./data', train=True, download=True)\n",
        "test = torchvision.datasets.MNIST(root='./data', train=False, download=True)"
      ]
    },
    {
      "cell_type": "code",
      "execution_count": 2,
      "metadata": {
        "colab": {
          "base_uri": "https://localhost:8080/",
          "height": 101
        },
        "id": "tiEL20dceh8U",
        "outputId": "f8648590-ea87-45f5-a019-8e5d27eb7530"
      },
      "outputs": [
        {
          "data": {
            "image/png": "[encoded data removed]",
            "text/plain": [
              "<Figure size 640x480 with 10 Axes>"
            ]
          },
          "metadata": {},
          "output_type": "display_data"
        }
      ],
      "source": [
        "import matplotlib.pyplot as plt\n",
        "\n",
        "for i in range(10):\n",
        "  plt.subplot(1,10,i+1)\n",
        "  plt.imshow(train[i][0],cmap='gray')\n",
        "  plt.title(train[i][1])\n",
        "  plt.axis('off')"
      ]
    },
    {
      "cell_type": "code",
      "execution_count": 3,
      "metadata": {
        "colab": {
          "base_uri": "https://localhost:8080/"
        },
        "id": "ac88TVoUepIp",
        "outputId": "faf40080-cc59-46b2-859b-888ee40eb16b"
      },
      "outputs": [
        {
          "data": {
            "text/plain": [
              "(5000, 5000, 1000, 1000)"
            ]
          },
          "execution_count": 3,
          "metadata": {},
          "output_type": "execute_result"
        }
      ],
      "source": [
        "import numpy as np\n",
        "\n",
        "x_train = [np.array(train[i][0]) for i in range(len(train))][:5000]\n",
        "y_train = [np.array(train[i][1]) for i in range(len(train))][:5000]\n",
        "x_test = [np.array(test[i][0]) for i in range(len(test))][:1000]\n",
        "y_test = [np.array(test[i][1]) for i in range(len(test))][:1000]\n",
        "\n",
        "len(x_train),len(y_train),len(x_test),len(y_test)"
      ]
    },
    {
      "cell_type": "code",
      "execution_count": 4,
      "metadata": {
        "colab": {
          "base_uri": "https://localhost:8080/"
        },
        "id": "KJ5LiS0QgdXr",
        "outputId": "f2167423-7228-4feb-afc4-3f9facf72511"
      },
      "outputs": [
        {
          "data": {
            "text/plain": [
              "(5000, 784)"
            ]
          },
          "execution_count": 4,
          "metadata": {},
          "output_type": "execute_result"
        }
      ],
      "source": [
        "x_train = np.stack(x_train)\n",
        "x_train = x_train.reshape((5000,28*28))\n",
        "x_train.shape"
      ]
    },
    {
      "cell_type": "code",
      "execution_count": 5,
      "metadata": {
        "colab": {
          "base_uri": "https://localhost:8080/"
        },
        "id": "ItfR5SBBoQT7",
        "outputId": "58101e5e-917b-46b0-8141-c24616d48688"
      },
      "outputs": [
        {
          "data": {
            "text/plain": [
              "(1000, 784)"
            ]
          },
          "execution_count": 5,
          "metadata": {},
          "output_type": "execute_result"
        }
      ],
      "source": [
        "x_test = np.stack(x_test)\n",
        "x_test = x_test.reshape((1000,28*28))\n",
        "x_test.shape"
      ]
    },
    {
      "cell_type": "code",
      "execution_count": 6,
      "metadata": {
        "id": "qUNQ57sQkJUT"
      },
      "outputs": [],
      "source": [
        "x_train=x_train/255\n",
        "x_test=x_test/255"
      ]
    },
    {
      "cell_type": "code",
      "execution_count": 7,
      "metadata": {
        "id": "_tqz5sTanycP"
      },
      "outputs": [],
      "source": [
        "def generate_pairs(X,y):\n",
        "\n",
        "  X_pairs = []\n",
        "  y_pairs = []\n",
        "\n",
        "  for i in range(len(X)):\n",
        "    digit = y[i]\n",
        "    positive_digit_index = np.random.choice(np.where(y==digit)[0])\n",
        "    X_pairs.append([X[i],X[positive_digit_index]])\n",
        "    y_pairs.append([0])\n",
        "    negative_digit_index = np.random.choice(np.where(y!=digit)[0])\n",
        "    X_pairs.append([X[i],X[negative_digit_index]])\n",
        "    y_pairs.append([1])\n",
        "\n",
        "  indices = np.arange(len(X_pairs))\n",
        "  np.random.shuffle(indices)\n",
        "  return np.array(X_pairs)[indices], np.array(y_pairs)[indices]\n"
      ]
    },
    {
      "cell_type": "code",
      "execution_count": 8,
      "metadata": {
        "id": "Y7SAfzEcn5PX"
      },
      "outputs": [],
      "source": [
        "X_train_pairs,y_train_pairs = generate_pairs(x_train,y_train)\n",
        "X_test_pairs,y_test_pairs = generate_pairs(x_test,y_test)"
      ]
    },
    {
      "cell_type": "code",
      "execution_count": 9,
      "metadata": {
        "colab": {
          "base_uri": "https://localhost:8080/"
        },
        "id": "M0rE3A510iy7",
        "outputId": "69fe5140-7e54-4300-cc0f-096bdcec752c"
      },
      "outputs": [
        {
          "data": {
            "text/plain": [
              "((10000, 2, 784), (10000, 1), (2000, 2, 784), (2000, 1))"
            ]
          },
          "execution_count": 9,
          "metadata": {},
          "output_type": "execute_result"
        }
      ],
      "source": [
        "X_train_pairs.shape,y_train_pairs.shape,X_test_pairs.shape,y_test_pairs.shape"
      ]
    },
    {
      "cell_type": "code",
      "execution_count": 10,
      "metadata": {
        "colab": {
          "base_uri": "https://localhost:8080/",
          "height": 334
        },
        "id": "q0qLKMv0v_EQ",
        "outputId": "3a7e8ad7-e5ba-4b41-80fe-d84de3c54e68"
      },
      "outputs": [
        {
          "data": {
            "image/png": "[encoded data removed]",
            "text/plain": [
              "<Figure size 2000x600 with 20 Axes>"
            ]
          },
          "metadata": {},
          "output_type": "display_data"
        }
      ],
      "source": [
        "def display_pairs(X,y,correct=None):\n",
        "  n=10\n",
        "  plt.figure(figsize=(20,6))\n",
        "  for i,(image1,image2) in enumerate(zip(X[:n,0],X[:n,1])):\n",
        "    label=int(y[:n][i][0])\n",
        "    text = 'positive' if label ==0 else 'negative'\n",
        "    color = 'silver'\n",
        "    if correct is not None:\n",
        "      text = 'Same' if label ==0 else \"Different\"\n",
        "      color = 'green' if correct[:n][i][0] else 'red'\n",
        "    ax = plt.subplot(3,n,i+1)\n",
        "    ax.text(1,-3,text,style='italic',bbox={\"facecolor\": color, \"pad\": 4})\n",
        "    plt.imshow(image1.reshape(28, 28), cmap=\"gray\")\n",
        "    plt.axis(\"off\")\n",
        "    ax = plt.subplot(3, n, i + 1 + n)\n",
        "    plt.imshow(image2.reshape(28, 28), cmap=\"gray\")\n",
        "    plt.axis(\"off\")\n",
        "  plt.show()\n",
        "\n",
        "display_pairs(X_train_pairs,y_train_pairs)"
      ]
    },
    {
      "cell_type": "code",
      "execution_count": 11,
      "metadata": {
        "id": "VASqo3hR4IiI"
      },
      "outputs": [],
      "source": [
        "import torch.nn as nn\n",
        "from torch.utils.data import DataLoader, TensorDataset\n",
        "\n",
        "class TwinNetwork(nn.Module):\n",
        "\n",
        "  def __init__(self):\n",
        "    super().__init__()\n",
        "    self.network = nn.Sequential(\n",
        "        nn.Linear(28*28,512),\n",
        "        nn.ReLU(),\n",
        "        nn.Linear(512,256),\n",
        "        nn.ReLU(),\n",
        "        nn.Linear(256,128)\n",
        "    )\n",
        "  def forward(self,x):\n",
        "    return self.network(x)"
      ]
    },
    {
      "cell_type": "code",
      "execution_count": 12,
      "metadata": {
        "id": "YurB77L97OFc"
      },
      "outputs": [],
      "source": [
        "def euclidean_distance(twin1_output,twin2_output):\n",
        "  return torch.norm(twin1_output - twin2_output,p=2,dim=1,keepdim=True)"
      ]
    },
    {
      "cell_type": "code",
      "execution_count": 13,
      "metadata": {
        "id": "YEwDnt7x7n6M"
      },
      "outputs": [],
      "source": [
        "class ContrastiveLoss(nn.Module):\n",
        "\n",
        "  def __init__(self,margin=1.0):\n",
        "    super().__init__()\n",
        "    self.margin = margin\n",
        "\n",
        "  def forward(self,y,d):\n",
        "    y = y.float()\n",
        "    loss = (1-y)/2*torch.square(d)+y/2*torch.square(torch.maximum(torch.tensor(0.0),self.margin-d))\n",
        "    return torch.mean(loss)"
      ]
    },
    {
      "cell_type": "code",
      "execution_count": 14,
      "metadata": {
        "id": "7GF7djJN8LHn"
      },
      "outputs": [],
      "source": [
        "train_dataset = TensorDataset(torch.tensor(X_train_pairs[:, 0], dtype=torch.float32), torch.tensor(X_train_pairs[:, 1], dtype=torch.float32), torch.tensor(y_train_pairs, dtype=torch.float32))\n",
        "test_dataset = TensorDataset(torch.tensor(X_test_pairs[:, 0], dtype=torch.float32), torch.tensor(X_test_pairs[:, 1], dtype=torch.float32), torch.tensor(y_test_pairs, dtype=torch.float32))\n",
        "\n",
        "train_loader = DataLoader(train_dataset, batch_size=32, shuffle=True)\n",
        "test_loader = DataLoader(test_dataset, batch_size=32, shuffle=False)"
      ]
    },
    {
      "cell_type": "code",
      "execution_count": 15,
      "metadata": {
        "id": "V38YQ5hP8j0S"
      },
      "outputs": [],
      "source": [
        "model = TwinNetwork()\n",
        "criterion = ContrastiveLoss()\n",
        "optimizer = torch.optim.Adam(model.parameters(), lr=0.001)"
      ]
    },
    {
      "cell_type": "code",
      "execution_count": 19,
      "metadata": {
        "colab": {
          "base_uri": "https://localhost:8080/"
        },
        "id": "BI3V72Rs8qf5",
        "outputId": "78ea646c-51fb-4b18-fb18-5163385a7e55"
      },
      "outputs": [
        {
          "name": "stdout",
          "output_type": "stream",
          "text": [
            "Epoch 1/10, Loss: 0.0011238572138440482\n",
            "Epoch 2/10, Loss: 0.0010597803073893555\n",
            "Epoch 3/10, Loss: 0.0010543763088010335\n",
            "Epoch 4/10, Loss: 0.002554189333727155\n",
            "Epoch 5/10, Loss: 0.004187323411327069\n",
            "Epoch 6/10, Loss: 0.0018816806409268465\n",
            "Epoch 7/10, Loss: 0.0007998038511922265\n",
            "Epoch 8/10, Loss: 0.0003919811202335906\n",
            "Epoch 9/10, Loss: 0.00028348542275108077\n",
            "Epoch 10/10, Loss: 0.00035155463518867544\n"
          ]
        }
      ],
      "source": [
        "num_epochs = 10\n",
        "for epoch in range(num_epochs):\n",
        "  model.train()\n",
        "  running_loss = 0.0\n",
        "  for data1,data2,labels in train_loader:\n",
        "    optimizer.zero_grad()\n",
        "    output1 = model(data1)\n",
        "    output2 = model(data2)\n",
        "    distance = euclidean_distance(output1,output2)\n",
        "    loss = criterion(labels,distance)\n",
        "    loss.backward()\n",
        "    optimizer.step()\n",
        "    running_loss += loss.item()\n",
        "  print(f\"Epoch {epoch+1}/{num_epochs}, Loss: {running_loss/len(train_loader)}\")"
      ]
    },
    {
      "cell_type": "code",
      "execution_count": 20,
      "metadata": {
        "colab": {
          "base_uri": "https://localhost:8080/"
        },
        "collapsed": true,
        "id": "DfgUQyqK9ko4",
        "outputId": "3761bdd5-341e-4ecc-d7d3-2c1f0a580396"
      },
      "outputs": [
        {
          "name": "stdout",
          "output_type": "stream",
          "text": [
            "Test Accuracy: 94.05%\n"
          ]
        }
      ],
      "source": [
        "model.eval()\n",
        "with torch.no_grad():\n",
        "    correct = 0\n",
        "    total = 0\n",
        "    for data1, data2, labels in test_loader:\n",
        "        output1 = model(data1)\n",
        "        output2 = model(data2)\n",
        "        distance = euclidean_distance(output1, output2)\n",
        "        predictions = (distance > 0.5).float().squeeze()\n",
        "\n",
        "        correct += (predictions.squeeze() == labels.squeeze()).sum().item()\n",
        "        total += labels.size(0)\n",
        "    print(f'Test Accuracy: {100 * correct / total}%')"
      ]
    },
    {
      "cell_type": "code",
      "execution_count": 21,
      "metadata": {
        "colab": {
          "base_uri": "https://localhost:8080/"
        },
        "id": "40K3Kxes-jZL",
        "outputId": "630a4316-9d7f-4e3c-97a9-70502f3e076a"
      },
      "outputs": [
        {
          "name": "stdout",
          "output_type": "stream",
          "text": [
            "Train Accuracy: 100.0%\n"
          ]
        }
      ],
      "source": [
        "model.eval()\n",
        "with torch.no_grad():\n",
        "    correct = 0\n",
        "    total = 0\n",
        "    for data1, data2, labels in train_loader:\n",
        "        output1 = model(data1)\n",
        "        output2 = model(data2)\n",
        "        distance = euclidean_distance(output1, output2)\n",
        "        predictions = (distance > 0.5).float().squeeze()\n",
        "\n",
        "        correct += (predictions.squeeze() == labels.squeeze()).sum().item()\n",
        "        total += labels.size(0)\n",
        "    print(f'Train Accuracy: {100 * correct / total}%')"
      ]
    },
    {
      "cell_type": "code",
      "execution_count": 30,
      "metadata": {
        "id": "XS9pVYCaJmnz"
      },
      "outputs": [
        {
          "name": "stdout",
          "output_type": "stream",
          "text": [
            "107\n"
          ]
        }
      ],
      "source": [
        "y_test = np.array(y_test) \n",
        "digits = np.where(y_test == 3)[0]\n",
        "index1 = np.random.choice(digits)\n",
        "index2 = np.random.choice(digits)\n",
        "index3 = np.random.choice(np.where(y_test == 7)[0])"
      ]
    },
    {
      "cell_type": "code",
      "execution_count": 36,
      "metadata": {},
      "outputs": [],
      "source": [
        "X_test_tensor = torch.tensor(x_test, dtype=torch.float32)\n",
        "embedding1 = model(X_test_tensor[index1].reshape(1, -1))\n",
        "embedding2 = model(X_test_tensor[index2].reshape(1, -1))\n",
        "embedding3 = model(X_test_tensor[index3].reshape(1, -1))"
      ]
    },
    {
      "cell_type": "code",
      "execution_count": 37,
      "metadata": {},
      "outputs": [
        {
          "name": "stdout",
          "output_type": "stream",
          "text": [
            "0.2689083218574524 1.029878854751587 1.007668137550354\n"
          ]
        }
      ],
      "source": [
        "dist_12 = euclidean_distance(embedding1, embedding2).item()\n",
        "dist_13 = euclidean_distance(embedding1, embedding3).item()\n",
        "dist_23 = euclidean_distance(embedding2, embedding3).item()\n",
        "\n",
        "print(dist_12, dist_13, dist_23)"
      ]
    },
    {
      "cell_type": "code",
      "execution_count": null,
      "metadata": {},
      "outputs": [],
      "source": []
    }
  ],
  "metadata": {
    "colab": {
      "provenance": []
    },
    "kernelspec": {
      "display_name": "Python 3",
      "name": "python3"
    },
    "language_info": {
      "codemirror_mode": {
        "name": "ipython",
        "version": 3
      },
      "file_extension": ".py",
      "mimetype": "text/x-python",
      "name": "python",
      "nbconvert_exporter": "python",
      "pygments_lexer": "ipython3",
      "version": "3.11.9"
    }
  },
  "nbformat": 4,
  "nbformat_minor": 0
}
