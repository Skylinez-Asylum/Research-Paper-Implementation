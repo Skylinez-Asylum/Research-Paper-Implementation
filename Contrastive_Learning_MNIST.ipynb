{
  "cells": [
    {
      "cell_type": "code",
      "execution_count": 1,
      "metadata": {
        "collapsed": true,
        "id": "U0EFgbIweO9m"
      },
      "outputs": [],
      "source": [
        "import torch\n",
        "import torchvision\n",
        "train = torchvision.datasets.MNIST(root='./data', train=True, download=True)\n",
        "test = torchvision.datasets.MNIST(root='./data', train=False, download=True)"
      ]
    },
    {
      "cell_type": "code",
      "execution_count": 2,
      "metadata": {
        "colab": {
          "base_uri": "https://localhost:8080/",
          "height": 101
        },
        "id": "tiEL20dceh8U",
        "outputId": "f8648590-ea87-45f5-a019-8e5d27eb7530"
      },
      "outputs": [
        {
          "data": {
            "image/png": "[encoded data removed]",
            "text/plain": [
              "<Figure size 640x480 with 10 Axes>"
            ]
          },
          "metadata": {},
          "output_type": "display_data"
        }
      ],
      "source": [
        "import matplotlib.pyplot as plt\n",
        "\n",
        "for i in range(10):\n",
        "  plt.subplot(1,10,i+1)\n",
        "  plt.imshow(train[i][0],cmap='gray')\n",
        "  plt.title(train[i][1])\n",
        "  plt.axis('off')"
      ]
    },
    {
      "cell_type": "code",
      "execution_count": 3,
      "metadata": {
        "colab": {
          "base_uri": "https://localhost:8080/"
        },
        "id": "ac88TVoUepIp",
        "outputId": "faf40080-cc59-46b2-859b-888ee40eb16b"
      },
      "outputs": [
        {
          "data": {
            "text/plain": [
              "(5000, 5000, 1000, 1000)"
            ]
          },
          "execution_count": 3,
          "metadata": {},
          "output_type": "execute_result"
        }
      ],
      "source": [
        "import numpy as np\n",
        "\n",
        "x_train = [np.array(train[i][0]) for i in range(len(train))][:5000]\n",
        "y_train = [np.array(train[i][1]) for i in range(len(train))][:5000]\n",
        "x_test = [np.array(test[i][0]) for i in range(len(test))][:1000]\n",
        "y_test = [np.array(test[i][1]) for i in range(len(test))][:1000]\n",
        "\n",
        "len(x_train),len(y_train),len(x_test),len(y_test)"
      ]
    },
    {
      "cell_type": "code",
      "execution_count": 4,
      "metadata": {
        "colab": {
          "base_uri": "https://localhost:8080/"
        },
        "id": "KJ5LiS0QgdXr",
        "outputId": "f2167423-7228-4feb-afc4-3f9facf72511"
      },
      "outputs": [
        {
          "data": {
            "text/plain": [
              "(5000, 784)"
            ]
          },
          "execution_count": 4,
          "metadata": {},
          "output_type": "execute_result"
        }
      ],
      "source": [
        "x_train = np.stack(x_train)\n",
        "x_train = x_train.reshape((5000,28*28))\n",
        "x_train.shape"
      ]
    },
    {
      "cell_type": "code",
      "execution_count": 5,
      "metadata": {
        "colab": {
          "base_uri": "https://localhost:8080/"
        },
        "id": "ItfR5SBBoQT7",
        "outputId": "58101e5e-917b-46b0-8141-c24616d48688"
      },
      "outputs": [
        {
          "data": {
            "text/plain": [
              "(1000, 784)"
            ]
          },
          "execution_count": 5,
          "metadata": {},
          "output_type": "execute_result"
        }
      ],
      "source": [
        "x_test = np.stack(x_test)\n",
        "x_test = x_test.reshape((1000,28*28))\n",
        "x_test.shape"
      ]
    },
    {
      "cell_type": "code",
      "execution_count": 6,
      "metadata": {
        "id": "qUNQ57sQkJUT"
      },
      "outputs": [],
      "source": [
        "x_train=x_train/255\n",
        "x_test=x_test/255"
      ]
    },
    {
      "cell_type": "code",
      "execution_count": 7,
      "metadata": {
        "id": "_tqz5sTanycP"
      },
      "outputs": [],
      "source": [
        "def generate_pairs(X,y):\n",
        "\n",
        "  X_pairs = []\n",
        "  y_pairs = []\n",
        "\n",
        "  for i in range(len(X)):\n",
        "    digit = y[i]\n",
        "    positive_digit_index = np.random.choice(np.where(y==digit)[0])\n",
        "    X_pairs.append([X[i],X[positive_digit_index]])\n",
        "    y_pairs.append([0])\n",
        "    negative_digit_index = np.random.choice(np.where(y!=digit)[0])\n",
        "    X_pairs.append([X[i],X[negative_digit_index]])\n",
        "    y_pairs.append([1])\n",
        "\n",
        "  indices = np.arange(len(X_pairs))\n",
        "  np.random.shuffle(indices)\n",
        "  return np.array(X_pairs)[indices], np.array(y_pairs)[indices]\n"
      ]
    },
    {
      "cell_type": "code",
      "execution_count": 8,
      "metadata": {
        "id": "Y7SAfzEcn5PX"
      },
      "outputs": [],
      "source": [
        "X_train_pairs,y_train_pairs = generate_pairs(x_train,y_train)\n",
        "X_test_pairs,y_test_pairs = generate_pairs(x_test,y_test)"
      ]
    },
    {
      "cell_type": "code",
      "execution_count": 9,
      "metadata": {
        "colab": {
          "base_uri": "https://localhost:8080/"
        },
        "id": "M0rE3A510iy7",
        "outputId": "69fe5140-7e54-4300-cc0f-096bdcec752c"
      },
      "outputs": [
        {
          "data": {
            "text/plain": [
              "((10000, 2, 784), (10000, 1), (2000, 2, 784), (2000, 1))"
            ]
          },
          "execution_count": 9,
          "metadata": {},
          "output_type": "execute_result"
        }
      ],
      "source": [
        "X_train_pairs.shape,y_train_pairs.shape,X_test_pairs.shape,y_test_pairs.shape"
      ]
    },
    {
      "cell_type": "code",
      "execution_count": 10,
      "metadata": {
        "colab": {
          "base_uri": "https://localhost:8080/",
          "height": 334
        },
        "id": "q0qLKMv0v_EQ",
        "outputId": "3a7e8ad7-e5ba-4b41-80fe-d84de3c54e68"
      },
      "outputs": [
        {
          "data": {
            "image/png": "[encoded data removed]",
            "text/plain": [
              "<Figure size 2000x600 with 20 Axes>"
            ]
          },
          "metadata": {},
          "output_type": "display_data"
        }
      ],
      "source": [
        "def display_pairs(X,y,correct=None):\n",
        "  n=10\n",
        "  plt.figure(figsize=(20,6))\n",
        "  for i,(image1,image2) in enumerate(zip(X[:n,0],X[:n,1])):\n",
        "    label=int(y[:n][i][0])\n",
        "    text = 'positive' if label ==0 else 'negative'\n",
        "    color = 'silver'\n",
        "    if correct is not None:\n",
        "      text = 'Same' if label ==0 else \"Different\"\n",
        "      color = 'green' if correct[:n][i][0] else 'red'\n",
        "    ax = plt.subplot(3,n,i+1)\n",
        "    ax.text(1,-3,text,style='italic',bbox={\"facecolor\": color, \"pad\": 4})\n",
        "    plt.imshow(image1.reshape(28, 28), cmap=\"gray\")\n",
        "    plt.axis(\"off\")\n",
        "    ax = plt.subplot(3, n, i + 1 + n)\n",
        "    plt.imshow(image2.reshape(28, 28), cmap=\"gray\")\n",
        "    plt.axis(\"off\")\n",
        "  plt.show()\n",
        "\n",
        "display_pairs(X_train_pairs,y_train_pairs)"
      ]
    },
    {
      "cell_type": "code",
      "execution_count": 11,
      "metadata": {
        "id": "VASqo3hR4IiI"
      },
      "outputs": [],
      "source": [
        "import torch.nn as nn\n",
        "from torch.utils.data import DataLoader, TensorDataset\n",
        "\n",
        "class TwinNetwork(nn.Module):\n",
        "\n",
        "  def __init__(self):\n",
        "    super().__init__()\n",
        "    self.network = nn.Sequential(\n",
        "        nn.Linear(28*28,512),\n",
        "        nn.ReLU(),\n",
        "        nn.Linear(512,256),\n",
        "        nn.ReLU(),\n",
        "        nn.Linear(256,128)\n",
        "    )\n",
        "  def forward(self,x):\n",
        "    return self.network(x)"
      ]
    },
    {
      "cell_type": "code",
      "execution_count": 12,
      "metadata": {
        "id": "YurB77L97OFc"
      },
      "outputs": [],
      "source": [
        "def euclidean_distance(twin1_output,twin2_output):\n",
        "  return torch.norm(twin1_output - twin2_output,p=2,dim=1,keepdim=True)"
      ]
    },
    {
      "cell_type": "code",
      "execution_count": 13,
      "metadata": {
        "id": "YEwDnt7x7n6M"
      },
      "outputs": [],
      "source": [
        "class ContrastiveLoss(nn.Module):\n",
        "\n",
        "  def __init__(self,margin=1.0):\n",
        "    super().__init__()\n",
        "    self.margin = margin\n",
        "\n",
        "  def forward(self,y,d):\n",
        "    y = y.float()\n",
        "    loss = (1-y)/2*torch.square(d)+y/2*torch.square(torch.maximum(torch.tensor(0.0),self.margin-d))\n",
        "    return torch.mean(loss)"
      ]
    },
    {
      "cell_type": "code",
      "execution_count": 14,
      "metadata": {
        "id": "7GF7djJN8LHn"
      },
      "outputs": [],
      "source": [
        "train_dataset = TensorDataset(torch.tensor(X_train_pairs[:, 0], dtype=torch.float32), torch.tensor(X_train_pairs[:, 1], dtype=torch.float32), torch.tensor(y_train_pairs, dtype=torch.float32))\n",
        "test_dataset = TensorDataset(torch.tensor(X_test_pairs[:, 0], dtype=torch.float32), torch.tensor(X_test_pairs[:, 1], dtype=torch.float32), torch.tensor(y_test_pairs, dtype=torch.float32))\n",
        "\n",
        "train_loader = DataLoader(train_dataset, batch_size=32, shuffle=True)\n",
        "test_loader = DataLoader(test_dataset, batch_size=32, shuffle=False)"
      ]
    },
    {
      "cell_type": "code",
      "execution_count": 21,
      "metadata": {
        "id": "V38YQ5hP8j0S"
      },
      "outputs": [],
      "source": [
        "model = TwinNetwork()\n",
        "criterion = ContrastiveLoss()\n",
        "optimizer = torch.optim.Adam(model.parameters(), lr=0.001)"
      ]
    },
    {
      "cell_type": "code",
      "execution_count": 24,
      "metadata": {
        "colab": {
          "base_uri": "https://localhost:8080/"
        },
        "id": "BI3V72Rs8qf5",
        "outputId": "78ea646c-51fb-4b18-fb18-5163385a7e55"
      },
      "outputs": [
        {
          "name": "stdout",
          "output_type": "stream",
          "text": [
            "Epoch 1/10, Loss: 0.053618705768983206\n",
            "Epoch 2/10, Loss: 0.025876659572648165\n",
            "Epoch 3/10, Loss: 0.014740572480586009\n",
            "Epoch 4/10, Loss: 0.009357046177491736\n",
            "Epoch 5/10, Loss: 0.005940697109401107\n",
            "Epoch 6/10, Loss: 0.0044875042118762915\n",
            "Epoch 7/10, Loss: 0.00290560542911547\n",
            "Epoch 8/10, Loss: 0.0022016530779313845\n",
            "Epoch 9/10, Loss: 0.001757487023235135\n",
            "Epoch 10/10, Loss: 0.0015248850884530456\n"
          ]
        }
      ],
      "source": [
        "num_epochs = 10\n",
        "for epoch in range(num_epochs):\n",
        "  model.train()\n",
        "  running_loss = 0.0\n",
        "  for data1,data2,labels in train_loader:\n",
        "    optimizer.zero_grad()\n",
        "    output1 = model(data1)\n",
        "    output2 = model(data2)\n",
        "    distance = euclidean_distance(output1,output2)\n",
        "    loss = criterion(labels,distance)\n",
        "    loss.backward()\n",
        "    optimizer.step()\n",
        "    running_loss += loss.item()\n",
        "  print(f\"Epoch {epoch+1}/{num_epochs}, Loss: {running_loss/len(train_loader)}\")"
      ]
    },
    {
      "cell_type": "code",
      "execution_count": 25,
      "metadata": {
        "colab": {
          "base_uri": "https://localhost:8080/"
        },
        "collapsed": true,
        "id": "DfgUQyqK9ko4",
        "outputId": "3761bdd5-341e-4ecc-d7d3-2c1f0a580396"
      },
      "outputs": [
        {
          "name": "stdout",
          "output_type": "stream",
          "text": [
            "Test Accuracy: 93.9%\n"
          ]
        }
      ],
      "source": [
        "model.eval()\n",
        "with torch.no_grad():\n",
        "    correct = 0\n",
        "    total = 0\n",
        "    for data1, data2, labels in test_loader:\n",
        "        output1 = model(data1)\n",
        "        output2 = model(data2)\n",
        "        distance = euclidean_distance(output1, output2)\n",
        "        predictions = (distance > 0.5).float().squeeze()\n",
        "\n",
        "        correct += (predictions.squeeze() == labels.squeeze()).sum().item()\n",
        "        total += labels.size(0)\n",
        "    print(f'Test Accuracy: {100 * correct / total}%')"
      ]
    },
    {
      "cell_type": "code",
      "execution_count": 26,
      "metadata": {
        "colab": {
          "base_uri": "https://localhost:8080/"
        },
        "id": "40K3Kxes-jZL",
        "outputId": "630a4316-9d7f-4e3c-97a9-70502f3e076a"
      },
      "outputs": [
        {
          "name": "stdout",
          "output_type": "stream",
          "text": [
            "Train Accuracy: 99.96%\n"
          ]
        }
      ],
      "source": [
        "model.eval()\n",
        "with torch.no_grad():\n",
        "    correct = 0\n",
        "    total = 0\n",
        "    for data1, data2, labels in train_loader:\n",
        "        output1 = model(data1)\n",
        "        output2 = model(data2)\n",
        "        distance = euclidean_distance(output1, output2)\n",
        "        predictions = (distance > 0.5).float().squeeze()\n",
        "\n",
        "        correct += (predictions.squeeze() == labels.squeeze()).sum().item()\n",
        "        total += labels.size(0)\n",
        "    print(f'Train Accuracy: {100 * correct / total}%')"
      ]
    },
    {
      "cell_type": "code",
      "execution_count": null,
      "metadata": {
        "id": "XS9pVYCaJmnz"
      },
      "outputs": [],
      "source": []
    }
  ],
  "metadata": {
    "colab": {
      "provenance": []
    },
    "kernelspec": {
      "display_name": "Python 3",
      "name": "python3"
    },
    "language_info": {
      "codemirror_mode": {
        "name": "ipython",
        "version": 3
      },
      "file_extension": ".py",
      "mimetype": "text/x-python",
      "name": "python",
      "nbconvert_exporter": "python",
      "pygments_lexer": "ipython3",
      "version": "3.10.12"
    }
  },
  "nbformat": 4,
  "nbformat_minor": 0
}
